{
 "cells": [
  {
   "cell_type": "code",
   "execution_count": 1,
   "id": "6e43e133",
   "metadata": {},
   "outputs": [],
   "source": [
    "import pandas as pd\n",
    "import pyarrow.parquet as pq\n",
    "import seaborn as sns\n",
    "import matplotlib as plt\n",
    "import pickle\n",
    "import statistics"
   ]
  },
  {
   "cell_type": "code",
   "execution_count": 2,
   "id": "85c49b7f",
   "metadata": {},
   "outputs": [],
   "source": [
    "from sklearn.feature_extraction import DictVectorizer\n",
    "from sklearn.linear_model import LinearRegression\n",
    "from sklearn.metrics import mean_squared_error"
   ]
  },
  {
   "cell_type": "code",
   "execution_count": 3,
   "id": "59e09f7b",
   "metadata": {},
   "outputs": [],
   "source": [
    "df_jan = pq.read_table('yellow_tripdata_2023-01.parquet').to_pandas()"
   ]
  },
  {
   "cell_type": "code",
   "execution_count": 4,
   "id": "8cb00e99",
   "metadata": {},
   "outputs": [],
   "source": [
    "df_feb = pq.read_table('yellow_tripdata_2023-02.parquet').to_pandas()"
   ]
  },
  {
   "cell_type": "code",
   "execution_count": 5,
   "id": "8a4d3b1f",
   "metadata": {},
   "outputs": [
    {
     "data": {
      "text/plain": [
       "(3066766, 19)"
      ]
     },
     "execution_count": 5,
     "metadata": {},
     "output_type": "execute_result"
    }
   ],
   "source": [
    "df_jan.shape"
   ]
  },
  {
   "cell_type": "code",
   "execution_count": 6,
   "id": "1791766a",
   "metadata": {},
   "outputs": [
    {
     "data": {
      "text/plain": [
       "(2913955, 19)"
      ]
     },
     "execution_count": 6,
     "metadata": {},
     "output_type": "execute_result"
    }
   ],
   "source": [
    "df_feb.shape"
   ]
  },
  {
   "cell_type": "code",
   "execution_count": 7,
   "id": "74b40b1a",
   "metadata": {},
   "outputs": [
    {
     "data": {
      "text/html": [
       "<div>\n",
       "<style scoped>\n",
       "    .dataframe tbody tr th:only-of-type {\n",
       "        vertical-align: middle;\n",
       "    }\n",
       "\n",
       "    .dataframe tbody tr th {\n",
       "        vertical-align: top;\n",
       "    }\n",
       "\n",
       "    .dataframe thead th {\n",
       "        text-align: right;\n",
       "    }\n",
       "</style>\n",
       "<table border=\"1\" class=\"dataframe\">\n",
       "  <thead>\n",
       "    <tr style=\"text-align: right;\">\n",
       "      <th></th>\n",
       "      <th>VendorID</th>\n",
       "      <th>tpep_pickup_datetime</th>\n",
       "      <th>tpep_dropoff_datetime</th>\n",
       "      <th>passenger_count</th>\n",
       "      <th>trip_distance</th>\n",
       "      <th>RatecodeID</th>\n",
       "      <th>store_and_fwd_flag</th>\n",
       "      <th>PULocationID</th>\n",
       "      <th>DOLocationID</th>\n",
       "      <th>payment_type</th>\n",
       "      <th>fare_amount</th>\n",
       "      <th>extra</th>\n",
       "      <th>mta_tax</th>\n",
       "      <th>tip_amount</th>\n",
       "      <th>tolls_amount</th>\n",
       "      <th>improvement_surcharge</th>\n",
       "      <th>total_amount</th>\n",
       "      <th>congestion_surcharge</th>\n",
       "      <th>airport_fee</th>\n",
       "    </tr>\n",
       "  </thead>\n",
       "  <tbody>\n",
       "    <tr>\n",
       "      <th>0</th>\n",
       "      <td>2</td>\n",
       "      <td>2023-01-01 00:32:10</td>\n",
       "      <td>2023-01-01 00:40:36</td>\n",
       "      <td>1.0</td>\n",
       "      <td>0.97</td>\n",
       "      <td>1.0</td>\n",
       "      <td>N</td>\n",
       "      <td>161</td>\n",
       "      <td>141</td>\n",
       "      <td>2</td>\n",
       "      <td>9.3</td>\n",
       "      <td>1.00</td>\n",
       "      <td>0.5</td>\n",
       "      <td>0.00</td>\n",
       "      <td>0.0</td>\n",
       "      <td>1.0</td>\n",
       "      <td>14.30</td>\n",
       "      <td>2.5</td>\n",
       "      <td>0.00</td>\n",
       "    </tr>\n",
       "    <tr>\n",
       "      <th>1</th>\n",
       "      <td>2</td>\n",
       "      <td>2023-01-01 00:55:08</td>\n",
       "      <td>2023-01-01 01:01:27</td>\n",
       "      <td>1.0</td>\n",
       "      <td>1.10</td>\n",
       "      <td>1.0</td>\n",
       "      <td>N</td>\n",
       "      <td>43</td>\n",
       "      <td>237</td>\n",
       "      <td>1</td>\n",
       "      <td>7.9</td>\n",
       "      <td>1.00</td>\n",
       "      <td>0.5</td>\n",
       "      <td>4.00</td>\n",
       "      <td>0.0</td>\n",
       "      <td>1.0</td>\n",
       "      <td>16.90</td>\n",
       "      <td>2.5</td>\n",
       "      <td>0.00</td>\n",
       "    </tr>\n",
       "    <tr>\n",
       "      <th>2</th>\n",
       "      <td>2</td>\n",
       "      <td>2023-01-01 00:25:04</td>\n",
       "      <td>2023-01-01 00:37:49</td>\n",
       "      <td>1.0</td>\n",
       "      <td>2.51</td>\n",
       "      <td>1.0</td>\n",
       "      <td>N</td>\n",
       "      <td>48</td>\n",
       "      <td>238</td>\n",
       "      <td>1</td>\n",
       "      <td>14.9</td>\n",
       "      <td>1.00</td>\n",
       "      <td>0.5</td>\n",
       "      <td>15.00</td>\n",
       "      <td>0.0</td>\n",
       "      <td>1.0</td>\n",
       "      <td>34.90</td>\n",
       "      <td>2.5</td>\n",
       "      <td>0.00</td>\n",
       "    </tr>\n",
       "    <tr>\n",
       "      <th>3</th>\n",
       "      <td>1</td>\n",
       "      <td>2023-01-01 00:03:48</td>\n",
       "      <td>2023-01-01 00:13:25</td>\n",
       "      <td>0.0</td>\n",
       "      <td>1.90</td>\n",
       "      <td>1.0</td>\n",
       "      <td>N</td>\n",
       "      <td>138</td>\n",
       "      <td>7</td>\n",
       "      <td>1</td>\n",
       "      <td>12.1</td>\n",
       "      <td>7.25</td>\n",
       "      <td>0.5</td>\n",
       "      <td>0.00</td>\n",
       "      <td>0.0</td>\n",
       "      <td>1.0</td>\n",
       "      <td>20.85</td>\n",
       "      <td>0.0</td>\n",
       "      <td>1.25</td>\n",
       "    </tr>\n",
       "    <tr>\n",
       "      <th>4</th>\n",
       "      <td>2</td>\n",
       "      <td>2023-01-01 00:10:29</td>\n",
       "      <td>2023-01-01 00:21:19</td>\n",
       "      <td>1.0</td>\n",
       "      <td>1.43</td>\n",
       "      <td>1.0</td>\n",
       "      <td>N</td>\n",
       "      <td>107</td>\n",
       "      <td>79</td>\n",
       "      <td>1</td>\n",
       "      <td>11.4</td>\n",
       "      <td>1.00</td>\n",
       "      <td>0.5</td>\n",
       "      <td>3.28</td>\n",
       "      <td>0.0</td>\n",
       "      <td>1.0</td>\n",
       "      <td>19.68</td>\n",
       "      <td>2.5</td>\n",
       "      <td>0.00</td>\n",
       "    </tr>\n",
       "  </tbody>\n",
       "</table>\n",
       "</div>"
      ],
      "text/plain": [
       "   VendorID tpep_pickup_datetime tpep_dropoff_datetime  passenger_count  \\\n",
       "0         2  2023-01-01 00:32:10   2023-01-01 00:40:36              1.0   \n",
       "1         2  2023-01-01 00:55:08   2023-01-01 01:01:27              1.0   \n",
       "2         2  2023-01-01 00:25:04   2023-01-01 00:37:49              1.0   \n",
       "3         1  2023-01-01 00:03:48   2023-01-01 00:13:25              0.0   \n",
       "4         2  2023-01-01 00:10:29   2023-01-01 00:21:19              1.0   \n",
       "\n",
       "   trip_distance  RatecodeID store_and_fwd_flag  PULocationID  DOLocationID  \\\n",
       "0           0.97         1.0                  N           161           141   \n",
       "1           1.10         1.0                  N            43           237   \n",
       "2           2.51         1.0                  N            48           238   \n",
       "3           1.90         1.0                  N           138             7   \n",
       "4           1.43         1.0                  N           107            79   \n",
       "\n",
       "   payment_type  fare_amount  extra  mta_tax  tip_amount  tolls_amount  \\\n",
       "0             2          9.3   1.00      0.5        0.00           0.0   \n",
       "1             1          7.9   1.00      0.5        4.00           0.0   \n",
       "2             1         14.9   1.00      0.5       15.00           0.0   \n",
       "3             1         12.1   7.25      0.5        0.00           0.0   \n",
       "4             1         11.4   1.00      0.5        3.28           0.0   \n",
       "\n",
       "   improvement_surcharge  total_amount  congestion_surcharge  airport_fee  \n",
       "0                    1.0         14.30                   2.5         0.00  \n",
       "1                    1.0         16.90                   2.5         0.00  \n",
       "2                    1.0         34.90                   2.5         0.00  \n",
       "3                    1.0         20.85                   0.0         1.25  \n",
       "4                    1.0         19.68                   2.5         0.00  "
      ]
     },
     "execution_count": 7,
     "metadata": {},
     "output_type": "execute_result"
    }
   ],
   "source": [
    "df_jan.head()"
   ]
  },
  {
   "cell_type": "code",
   "execution_count": 8,
   "id": "ed7c6b64",
   "metadata": {},
   "outputs": [
    {
     "data": {
      "text/plain": [
       "VendorID                          int64\n",
       "tpep_pickup_datetime     datetime64[ns]\n",
       "tpep_dropoff_datetime    datetime64[ns]\n",
       "passenger_count                 float64\n",
       "trip_distance                   float64\n",
       "RatecodeID                      float64\n",
       "store_and_fwd_flag               object\n",
       "PULocationID                      int64\n",
       "DOLocationID                      int64\n",
       "payment_type                      int64\n",
       "fare_amount                     float64\n",
       "extra                           float64\n",
       "mta_tax                         float64\n",
       "tip_amount                      float64\n",
       "tolls_amount                    float64\n",
       "improvement_surcharge           float64\n",
       "total_amount                    float64\n",
       "congestion_surcharge            float64\n",
       "airport_fee                     float64\n",
       "dtype: object"
      ]
     },
     "execution_count": 8,
     "metadata": {},
     "output_type": "execute_result"
    }
   ],
   "source": [
    "df_jan.dtypes"
   ]
  },
  {
   "cell_type": "code",
   "execution_count": 9,
   "id": "58aa7b25",
   "metadata": {},
   "outputs": [],
   "source": [
    "df_jan['duration'] = (df_jan.tpep_dropoff_datetime - df_jan.tpep_pickup_datetime).dt.total_seconds()/60"
   ]
  },
  {
   "cell_type": "code",
   "execution_count": 10,
   "id": "d0c72203",
   "metadata": {},
   "outputs": [],
   "source": [
    "df_jan['PULocationID'] =df_jan['PULocationID'].astype(str)"
   ]
  },
  {
   "cell_type": "code",
   "execution_count": 11,
   "id": "ed6de5b2",
   "metadata": {},
   "outputs": [],
   "source": [
    "df_jan['DOLocationID'] =df_jan['DOLocationID'].astype(str)"
   ]
  },
  {
   "cell_type": "code",
   "execution_count": 12,
   "id": "a020eb19",
   "metadata": {},
   "outputs": [
    {
     "data": {
      "text/plain": [
       "42.59435124195457"
      ]
     },
     "execution_count": 12,
     "metadata": {},
     "output_type": "execute_result"
    }
   ],
   "source": [
    "statistics.stdev(df_jan.duration)"
   ]
  },
  {
   "cell_type": "code",
   "execution_count": 13,
   "id": "d7742e1e",
   "metadata": {},
   "outputs": [
    {
     "data": {
      "text/plain": [
       "0          True\n",
       "1          True\n",
       "2          True\n",
       "3          True\n",
       "4          True\n",
       "           ... \n",
       "3066761    True\n",
       "3066762    True\n",
       "3066763    True\n",
       "3066764    True\n",
       "3066765    True\n",
       "Name: duration, Length: 3066766, dtype: bool"
      ]
     },
     "execution_count": 13,
     "metadata": {},
     "output_type": "execute_result"
    }
   ],
   "source": [
    "(df_jan['duration']>=1) & (df_jan['duration']<=60)"
   ]
  },
  {
   "cell_type": "code",
   "execution_count": 14,
   "id": "b6c83032",
   "metadata": {},
   "outputs": [],
   "source": [
    "df_jan_model = df_jan[(df_jan['duration']>=1) & (df_jan['duration']<=60)]"
   ]
  },
  {
   "cell_type": "code",
   "execution_count": 15,
   "id": "f29cd15a",
   "metadata": {},
   "outputs": [
    {
     "data": {
      "text/plain": [
       "0.9812202822125979"
      ]
     },
     "execution_count": 15,
     "metadata": {},
     "output_type": "execute_result"
    }
   ],
   "source": [
    "df_jan_model.shape[0]/df_jan.shape[0]"
   ]
  },
  {
   "cell_type": "code",
   "execution_count": 16,
   "id": "181707aa",
   "metadata": {},
   "outputs": [
    {
     "data": {
      "text/plain": [
       "[{'VendorID': 2,\n",
       "  'tpep_pickup_datetime': Timestamp('2023-01-01 00:32:10'),\n",
       "  'tpep_dropoff_datetime': Timestamp('2023-01-01 00:40:36'),\n",
       "  'passenger_count': 1.0,\n",
       "  'trip_distance': 0.97,\n",
       "  'RatecodeID': 1.0,\n",
       "  'store_and_fwd_flag': 'N',\n",
       "  'PULocationID': '161',\n",
       "  'DOLocationID': '141',\n",
       "  'payment_type': 2,\n",
       "  'fare_amount': 9.3,\n",
       "  'extra': 1.0,\n",
       "  'mta_tax': 0.5,\n",
       "  'tip_amount': 0.0,\n",
       "  'tolls_amount': 0.0,\n",
       "  'improvement_surcharge': 1.0,\n",
       "  'total_amount': 14.3,\n",
       "  'congestion_surcharge': 2.5,\n",
       "  'airport_fee': 0.0,\n",
       "  'duration': 8.433333333333334},\n",
       " {'VendorID': 2,\n",
       "  'tpep_pickup_datetime': Timestamp('2023-01-01 00:55:08'),\n",
       "  'tpep_dropoff_datetime': Timestamp('2023-01-01 01:01:27'),\n",
       "  'passenger_count': 1.0,\n",
       "  'trip_distance': 1.1,\n",
       "  'RatecodeID': 1.0,\n",
       "  'store_and_fwd_flag': 'N',\n",
       "  'PULocationID': '43',\n",
       "  'DOLocationID': '237',\n",
       "  'payment_type': 1,\n",
       "  'fare_amount': 7.9,\n",
       "  'extra': 1.0,\n",
       "  'mta_tax': 0.5,\n",
       "  'tip_amount': 4.0,\n",
       "  'tolls_amount': 0.0,\n",
       "  'improvement_surcharge': 1.0,\n",
       "  'total_amount': 16.9,\n",
       "  'congestion_surcharge': 2.5,\n",
       "  'airport_fee': 0.0,\n",
       "  'duration': 6.316666666666666},\n",
       " {'VendorID': 2,\n",
       "  'tpep_pickup_datetime': Timestamp('2023-01-01 00:25:04'),\n",
       "  'tpep_dropoff_datetime': Timestamp('2023-01-01 00:37:49'),\n",
       "  'passenger_count': 1.0,\n",
       "  'trip_distance': 2.51,\n",
       "  'RatecodeID': 1.0,\n",
       "  'store_and_fwd_flag': 'N',\n",
       "  'PULocationID': '48',\n",
       "  'DOLocationID': '238',\n",
       "  'payment_type': 1,\n",
       "  'fare_amount': 14.9,\n",
       "  'extra': 1.0,\n",
       "  'mta_tax': 0.5,\n",
       "  'tip_amount': 15.0,\n",
       "  'tolls_amount': 0.0,\n",
       "  'improvement_surcharge': 1.0,\n",
       "  'total_amount': 34.9,\n",
       "  'congestion_surcharge': 2.5,\n",
       "  'airport_fee': 0.0,\n",
       "  'duration': 12.75},\n",
       " {'VendorID': 1,\n",
       "  'tpep_pickup_datetime': Timestamp('2023-01-01 00:03:48'),\n",
       "  'tpep_dropoff_datetime': Timestamp('2023-01-01 00:13:25'),\n",
       "  'passenger_count': 0.0,\n",
       "  'trip_distance': 1.9,\n",
       "  'RatecodeID': 1.0,\n",
       "  'store_and_fwd_flag': 'N',\n",
       "  'PULocationID': '138',\n",
       "  'DOLocationID': '7',\n",
       "  'payment_type': 1,\n",
       "  'fare_amount': 12.1,\n",
       "  'extra': 7.25,\n",
       "  'mta_tax': 0.5,\n",
       "  'tip_amount': 0.0,\n",
       "  'tolls_amount': 0.0,\n",
       "  'improvement_surcharge': 1.0,\n",
       "  'total_amount': 20.85,\n",
       "  'congestion_surcharge': 0.0,\n",
       "  'airport_fee': 1.25,\n",
       "  'duration': 9.616666666666667},\n",
       " {'VendorID': 2,\n",
       "  'tpep_pickup_datetime': Timestamp('2023-01-01 00:10:29'),\n",
       "  'tpep_dropoff_datetime': Timestamp('2023-01-01 00:21:19'),\n",
       "  'passenger_count': 1.0,\n",
       "  'trip_distance': 1.43,\n",
       "  'RatecodeID': 1.0,\n",
       "  'store_and_fwd_flag': 'N',\n",
       "  'PULocationID': '107',\n",
       "  'DOLocationID': '79',\n",
       "  'payment_type': 1,\n",
       "  'fare_amount': 11.4,\n",
       "  'extra': 1.0,\n",
       "  'mta_tax': 0.5,\n",
       "  'tip_amount': 3.28,\n",
       "  'tolls_amount': 0.0,\n",
       "  'improvement_surcharge': 1.0,\n",
       "  'total_amount': 19.68,\n",
       "  'congestion_surcharge': 2.5,\n",
       "  'airport_fee': 0.0,\n",
       "  'duration': 10.833333333333334},\n",
       " {'VendorID': 2,\n",
       "  'tpep_pickup_datetime': Timestamp('2023-01-01 00:50:34'),\n",
       "  'tpep_dropoff_datetime': Timestamp('2023-01-01 01:02:52'),\n",
       "  'passenger_count': 1.0,\n",
       "  'trip_distance': 1.84,\n",
       "  'RatecodeID': 1.0,\n",
       "  'store_and_fwd_flag': 'N',\n",
       "  'PULocationID': '161',\n",
       "  'DOLocationID': '137',\n",
       "  'payment_type': 1,\n",
       "  'fare_amount': 12.8,\n",
       "  'extra': 1.0,\n",
       "  'mta_tax': 0.5,\n",
       "  'tip_amount': 10.0,\n",
       "  'tolls_amount': 0.0,\n",
       "  'improvement_surcharge': 1.0,\n",
       "  'total_amount': 27.8,\n",
       "  'congestion_surcharge': 2.5,\n",
       "  'airport_fee': 0.0,\n",
       "  'duration': 12.3},\n",
       " {'VendorID': 2,\n",
       "  'tpep_pickup_datetime': Timestamp('2023-01-01 00:09:22'),\n",
       "  'tpep_dropoff_datetime': Timestamp('2023-01-01 00:19:49'),\n",
       "  'passenger_count': 1.0,\n",
       "  'trip_distance': 1.66,\n",
       "  'RatecodeID': 1.0,\n",
       "  'store_and_fwd_flag': 'N',\n",
       "  'PULocationID': '239',\n",
       "  'DOLocationID': '143',\n",
       "  'payment_type': 1,\n",
       "  'fare_amount': 12.1,\n",
       "  'extra': 1.0,\n",
       "  'mta_tax': 0.5,\n",
       "  'tip_amount': 3.42,\n",
       "  'tolls_amount': 0.0,\n",
       "  'improvement_surcharge': 1.0,\n",
       "  'total_amount': 20.52,\n",
       "  'congestion_surcharge': 2.5,\n",
       "  'airport_fee': 0.0,\n",
       "  'duration': 10.45},\n",
       " {'VendorID': 2,\n",
       "  'tpep_pickup_datetime': Timestamp('2023-01-01 00:27:12'),\n",
       "  'tpep_dropoff_datetime': Timestamp('2023-01-01 00:49:56'),\n",
       "  'passenger_count': 1.0,\n",
       "  'trip_distance': 11.7,\n",
       "  'RatecodeID': 1.0,\n",
       "  'store_and_fwd_flag': 'N',\n",
       "  'PULocationID': '142',\n",
       "  'DOLocationID': '200',\n",
       "  'payment_type': 1,\n",
       "  'fare_amount': 45.7,\n",
       "  'extra': 1.0,\n",
       "  'mta_tax': 0.5,\n",
       "  'tip_amount': 10.74,\n",
       "  'tolls_amount': 3.0,\n",
       "  'improvement_surcharge': 1.0,\n",
       "  'total_amount': 64.44,\n",
       "  'congestion_surcharge': 2.5,\n",
       "  'airport_fee': 0.0,\n",
       "  'duration': 22.733333333333334},\n",
       " {'VendorID': 2,\n",
       "  'tpep_pickup_datetime': Timestamp('2023-01-01 00:21:44'),\n",
       "  'tpep_dropoff_datetime': Timestamp('2023-01-01 00:36:40'),\n",
       "  'passenger_count': 1.0,\n",
       "  'trip_distance': 2.95,\n",
       "  'RatecodeID': 1.0,\n",
       "  'store_and_fwd_flag': 'N',\n",
       "  'PULocationID': '164',\n",
       "  'DOLocationID': '236',\n",
       "  'payment_type': 1,\n",
       "  'fare_amount': 17.7,\n",
       "  'extra': 1.0,\n",
       "  'mta_tax': 0.5,\n",
       "  'tip_amount': 5.68,\n",
       "  'tolls_amount': 0.0,\n",
       "  'improvement_surcharge': 1.0,\n",
       "  'total_amount': 28.38,\n",
       "  'congestion_surcharge': 2.5,\n",
       "  'airport_fee': 0.0,\n",
       "  'duration': 14.933333333333334},\n",
       " {'VendorID': 2,\n",
       "  'tpep_pickup_datetime': Timestamp('2023-01-01 00:39:42'),\n",
       "  'tpep_dropoff_datetime': Timestamp('2023-01-01 00:50:36'),\n",
       "  'passenger_count': 1.0,\n",
       "  'trip_distance': 3.01,\n",
       "  'RatecodeID': 1.0,\n",
       "  'store_and_fwd_flag': 'N',\n",
       "  'PULocationID': '141',\n",
       "  'DOLocationID': '107',\n",
       "  'payment_type': 2,\n",
       "  'fare_amount': 14.9,\n",
       "  'extra': 1.0,\n",
       "  'mta_tax': 0.5,\n",
       "  'tip_amount': 0.0,\n",
       "  'tolls_amount': 0.0,\n",
       "  'improvement_surcharge': 1.0,\n",
       "  'total_amount': 19.9,\n",
       "  'congestion_surcharge': 2.5,\n",
       "  'airport_fee': 0.0,\n",
       "  'duration': 10.9}]"
      ]
     },
     "execution_count": 16,
     "metadata": {},
     "output_type": "execute_result"
    }
   ],
   "source": [
    "df_jan_model[:10].to_dict(orient = 'records')"
   ]
  },
  {
   "cell_type": "code",
   "execution_count": 17,
   "id": "e2fe70ba",
   "metadata": {},
   "outputs": [
    {
     "data": {
      "text/plain": [
       "(3009173, 20)"
      ]
     },
     "execution_count": 17,
     "metadata": {},
     "output_type": "execute_result"
    }
   ],
   "source": [
    "df_jan_model.shape"
   ]
  },
  {
   "cell_type": "code",
   "execution_count": 18,
   "id": "218d4b9a",
   "metadata": {},
   "outputs": [
    {
     "data": {
      "text/plain": [
       "VendorID                          int64\n",
       "tpep_pickup_datetime     datetime64[ns]\n",
       "tpep_dropoff_datetime    datetime64[ns]\n",
       "passenger_count                 float64\n",
       "trip_distance                   float64\n",
       "RatecodeID                      float64\n",
       "store_and_fwd_flag               object\n",
       "PULocationID                     object\n",
       "DOLocationID                     object\n",
       "payment_type                      int64\n",
       "fare_amount                     float64\n",
       "extra                           float64\n",
       "mta_tax                         float64\n",
       "tip_amount                      float64\n",
       "tolls_amount                    float64\n",
       "improvement_surcharge           float64\n",
       "total_amount                    float64\n",
       "congestion_surcharge            float64\n",
       "airport_fee                     float64\n",
       "duration                        float64\n",
       "dtype: object"
      ]
     },
     "execution_count": 18,
     "metadata": {},
     "output_type": "execute_result"
    }
   ],
   "source": [
    "df_jan_model.dtypes"
   ]
  },
  {
   "cell_type": "code",
   "execution_count": null,
   "id": "46bf5c89",
   "metadata": {},
   "outputs": [],
   "source": [
    "df_dict = df_jan_model.to_dict(orient = 'records')"
   ]
  },
  {
   "cell_type": "code",
   "execution_count": null,
   "id": "c5e444b8",
   "metadata": {},
   "outputs": [],
   "source": []
  },
  {
   "cell_type": "code",
   "execution_count": null,
   "id": "dc453f8a",
   "metadata": {},
   "outputs": [],
   "source": []
  },
  {
   "cell_type": "code",
   "execution_count": null,
   "id": "512081b7",
   "metadata": {},
   "outputs": [],
   "source": []
  },
  {
   "cell_type": "code",
   "execution_count": null,
   "id": "91db9e80",
   "metadata": {},
   "outputs": [],
   "source": []
  },
  {
   "cell_type": "code",
   "execution_count": null,
   "id": "02b33716",
   "metadata": {},
   "outputs": [],
   "source": []
  },
  {
   "cell_type": "code",
   "execution_count": null,
   "id": "bea65759",
   "metadata": {
    "scrolled": true
   },
   "outputs": [],
   "source": [
    "df_jan = pq.read_table('yellow_tripdata_2023-01.parquet')\n",
    "\n",
    "df = df.to_pandas()\n",
    "\n",
    "df.lpep_pickup_datetime = pd.to_datetime(df.lpep_pickup_datetime)\n",
    "\n",
    "df.lpep_dropoff_datetime = pd.to_datetime(df.lpep_dropoff_datetime)\n",
    "\n",
    "df['duration'] = df.lpep_dropoff_datetime-df.lpep_pickup_datetime\n",
    "\n",
    "df['duration'] = df.duration.apply(lambda td: td.total_seconds()/60)\n",
    "\n",
    "categorical = ['PULocationID', 'DOLocationID']\n",
    "\n",
    "numerical = ['trip_distance']\n",
    "\n",
    "df[categorical].dtypes\n",
    "\n",
    "df[categorical] = df[categorical].astype(str)"
   ]
  },
  {
   "cell_type": "code",
   "execution_count": null,
   "id": "96dd133a",
   "metadata": {},
   "outputs": [],
   "source": [
    "df = df.to_pandas()"
   ]
  },
  {
   "cell_type": "code",
   "execution_count": null,
   "id": "adf206da",
   "metadata": {},
   "outputs": [],
   "source": [
    "df.head()"
   ]
  },
  {
   "cell_type": "code",
   "execution_count": null,
   "id": "7a3a2ff8",
   "metadata": {},
   "outputs": [],
   "source": [
    "df.lpep_pickup_datetime = pd.to_datetime(df.lpep_pickup_datetime)"
   ]
  },
  {
   "cell_type": "code",
   "execution_count": null,
   "id": "7025bfbb",
   "metadata": {},
   "outputs": [],
   "source": [
    "df.lpep_dropoff_datetime = pd.to_datetime(df.lpep_dropoff_datetime)"
   ]
  },
  {
   "cell_type": "code",
   "execution_count": null,
   "id": "8cff1bfc",
   "metadata": {},
   "outputs": [],
   "source": [
    "df['duration'] = df.lpep_dropoff_datetime-df.lpep_pickup_datetime"
   ]
  },
  {
   "cell_type": "code",
   "execution_count": null,
   "id": "785cfebe",
   "metadata": {},
   "outputs": [],
   "source": [
    "df['duration'] = df.duration.apply(lambda td: td.total_seconds()/60)"
   ]
  },
  {
   "cell_type": "code",
   "execution_count": null,
   "id": "66b1a03f",
   "metadata": {},
   "outputs": [],
   "source": [
    "sns.distplot(df.duration)"
   ]
  },
  {
   "cell_type": "code",
   "execution_count": null,
   "id": "808894b9",
   "metadata": {},
   "outputs": [],
   "source": [
    "df.duration.describe(percentiles=[0.95, ])"
   ]
  },
  {
   "cell_type": "code",
   "execution_count": null,
   "id": "77895429",
   "metadata": {},
   "outputs": [],
   "source": [
    "df = df[(df.duration >=1)& (df.duration <=60)]"
   ]
  },
  {
   "cell_type": "code",
   "execution_count": null,
   "id": "8617e9d6",
   "metadata": {},
   "outputs": [],
   "source": [
    "df.head()"
   ]
  },
  {
   "cell_type": "code",
   "execution_count": null,
   "id": "d20fdcd1",
   "metadata": {},
   "outputs": [],
   "source": [
    "categorical = ['PULocationID', 'DOLocationID']"
   ]
  },
  {
   "cell_type": "code",
   "execution_count": null,
   "id": "e0098ae4",
   "metadata": {},
   "outputs": [],
   "source": [
    "numerical = ['trip_distance']"
   ]
  },
  {
   "cell_type": "code",
   "execution_count": null,
   "id": "2dd52f62",
   "metadata": {},
   "outputs": [],
   "source": [
    "df[categorical].dtypes"
   ]
  },
  {
   "cell_type": "code",
   "execution_count": null,
   "id": "1c634eca",
   "metadata": {},
   "outputs": [],
   "source": [
    "df[categorical] = df[categorical].astype(str)"
   ]
  },
  {
   "cell_type": "code",
   "execution_count": null,
   "id": "688103ec",
   "metadata": {},
   "outputs": [],
   "source": [
    "train_dict = df[categorical + numerical].to_dict(orient = 'records')"
   ]
  },
  {
   "cell_type": "code",
   "execution_count": null,
   "id": "e47465e8",
   "metadata": {},
   "outputs": [],
   "source": [
    "dv = DictVectorizer()"
   ]
  },
  {
   "cell_type": "code",
   "execution_count": null,
   "id": "c0b86aea",
   "metadata": {},
   "outputs": [],
   "source": [
    "X_train = dv.fit_transform(train_dict)"
   ]
  },
  {
   "cell_type": "code",
   "execution_count": null,
   "id": "8e3e7201",
   "metadata": {},
   "outputs": [],
   "source": [
    "X_train"
   ]
  },
  {
   "cell_type": "code",
   "execution_count": null,
   "id": "c2554d63",
   "metadata": {},
   "outputs": [],
   "source": [
    "dv"
   ]
  },
  {
   "cell_type": "code",
   "execution_count": null,
   "id": "ea378e8c",
   "metadata": {},
   "outputs": [],
   "source": [
    "dv.feature_names_"
   ]
  },
  {
   "cell_type": "code",
   "execution_count": null,
   "id": "50017803",
   "metadata": {},
   "outputs": [],
   "source": [
    "target = 'duration'\n",
    "y_train = df[target].values"
   ]
  },
  {
   "cell_type": "code",
   "execution_count": null,
   "id": "edb62816",
   "metadata": {},
   "outputs": [],
   "source": [
    "y_train"
   ]
  },
  {
   "cell_type": "code",
   "execution_count": null,
   "id": "ee934980",
   "metadata": {},
   "outputs": [],
   "source": [
    "lr = LinearRegression()"
   ]
  },
  {
   "cell_type": "code",
   "execution_count": null,
   "id": "8cb98185",
   "metadata": {},
   "outputs": [],
   "source": [
    "lr.fit(X_train, y_train)"
   ]
  },
  {
   "cell_type": "code",
   "execution_count": null,
   "id": "dece68d2",
   "metadata": {},
   "outputs": [],
   "source": [
    "y_pred = lr.predict(X_train)"
   ]
  },
  {
   "cell_type": "code",
   "execution_count": null,
   "id": "888967a7",
   "metadata": {},
   "outputs": [],
   "source": []
  },
  {
   "cell_type": "code",
   "execution_count": null,
   "id": "627ceb10",
   "metadata": {},
   "outputs": [],
   "source": [
    "sns.distplot(y_pred, label ='prediction')\n",
    "sns.distplot(y_train, label ='actual')\n",
    "plt.pyplot.legend()"
   ]
  },
  {
   "cell_type": "code",
   "execution_count": null,
   "id": "85598ec0",
   "metadata": {},
   "outputs": [],
   "source": [
    "mean_squared_error(y_train, y_pred, squared = False)"
   ]
  },
  {
   "cell_type": "code",
   "execution_count": null,
   "id": "ed2f852f",
   "metadata": {},
   "outputs": [],
   "source": [
    "with open('model/lin_reg.bin', 'wb') as f_out:\n",
    "    pickle.dump((dv, lr), f_out)"
   ]
  },
  {
   "cell_type": "code",
   "execution_count": null,
   "id": "ea15e805",
   "metadata": {},
   "outputs": [],
   "source": [
    "# Code restructuring\n",
    "\n",
    "def read_dataframe(filename):\n",
    "    df = pq.read_table('green_tripdata_2021-01.parquet')\n",
    "\n",
    "    df = df.to_pandas()\n",
    "\n",
    "    df.lpep_pickup_datetime = pd.to_datetime(df.lpep_pickup_datetime)\n",
    "\n",
    "    df.lpep_dropoff_datetime = pd.to_datetime(df.lpep_dropoff_datetime)\n",
    "\n",
    "    df['duration'] = df.lpep_dropoff_datetime-df.lpep_pickup_datetime\n",
    "\n",
    "    df['duration'] = df.duration.apply(lambda td: td.total_seconds()/60)\n",
    "\n",
    "    categorical = ['PULocationID', 'DOLocationID']\n",
    "\n",
    "    numerical = ['trip_distance']\n",
    "\n",
    "    df[categorical].dtypes\n",
    "\n",
    "    df[categorical] = df[categorical].astype(str)\n",
    "    \n",
    "    return df"
   ]
  },
  {
   "cell_type": "code",
   "execution_count": null,
   "id": "08103043",
   "metadata": {},
   "outputs": [],
   "source": [
    "df_train = read_dataframe('green_tripdata_2021-01.parquet')\n",
    "df_test = read_dataframe('green_tripdata_2021-02.parquet')"
   ]
  },
  {
   "cell_type": "code",
   "execution_count": null,
   "id": "8c5576cf",
   "metadata": {},
   "outputs": [],
   "source": []
  },
  {
   "cell_type": "code",
   "execution_count": null,
   "id": "d2bd08c0",
   "metadata": {},
   "outputs": [],
   "source": [
    "dv = DictVectorizer()\n",
    "\n",
    "train_dict = df_train[categorical + numerical].to_dict(orient = 'records')\n",
    "X_train = dv.fit_transform(train_dict)\n",
    "\n",
    "val_dict = df_val[categorical + numerical].to_dict(orient = 'records')\n",
    "X_val = dv.fit_transform(val_dict)"
   ]
  },
  {
   "cell_type": "code",
   "execution_count": null,
   "id": "143ed83a",
   "metadata": {},
   "outputs": [],
   "source": []
  },
  {
   "cell_type": "code",
   "execution_count": null,
   "id": "341e8cc5",
   "metadata": {},
   "outputs": [],
   "source": [
    "target"
   ]
  },
  {
   "cell_type": "code",
   "execution_count": null,
   "id": "f2362584",
   "metadata": {},
   "outputs": [],
   "source": []
  }
 ],
 "metadata": {
  "kernelspec": {
   "display_name": "Python 3 (ipykernel)",
   "language": "python",
   "name": "python3"
  },
  "language_info": {
   "codemirror_mode": {
    "name": "ipython",
    "version": 3
   },
   "file_extension": ".py",
   "mimetype": "text/x-python",
   "name": "python",
   "nbconvert_exporter": "python",
   "pygments_lexer": "ipython3",
   "version": "3.9.12"
  }
 },
 "nbformat": 4,
 "nbformat_minor": 5
}
